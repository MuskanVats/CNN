{
 "cells": [
  {
   "cell_type": "code",
   "execution_count": null,
   "metadata": {},
   "outputs": [],
   "source": [
    "#Building CNN for food images"
   ]
  },
  {
   "cell_type": "code",
   "execution_count": 1,
   "metadata": {},
   "outputs": [],
   "source": [
    "import tensorflow as tf"
   ]
  },
  {
   "cell_type": "code",
   "execution_count": 2,
   "metadata": {},
   "outputs": [
    {
     "data": {
      "text/plain": [
       "'2.1.0'"
      ]
     },
     "execution_count": 2,
     "metadata": {},
     "output_type": "execute_result"
    }
   ],
   "source": [
    "tf.__version__"
   ]
  },
  {
   "cell_type": "code",
   "execution_count": 3,
   "metadata": {
    "scrolled": true
   },
   "outputs": [
    {
     "name": "stderr",
     "output_type": "stream",
     "text": [
      "Using TensorFlow backend.\n"
     ]
    }
   ],
   "source": [
    "from keras.preprocessing.image import ImageDataGenerator"
   ]
  },
  {
   "cell_type": "code",
   "execution_count": null,
   "metadata": {},
   "outputs": [],
   "source": [
    "#Splitting itno training and test set"
   ]
  },
  {
   "cell_type": "code",
   "execution_count": 4,
   "metadata": {},
   "outputs": [
    {
     "name": "stdout",
     "output_type": "stream",
     "text": [
      "Found 3000 images belonging to 2 classes.\n",
      "Found 1000 images belonging to 2 classes.\n"
     ]
    }
   ],
   "source": [
    "train_datagen = ImageDataGenerator(rescale = 1./255,\n",
    "                                   shear_range = 0.2,\n",
    "                                   zoom_range = 0.2,\n",
    "                                   horizontal_flip = True)\n",
    "training_set = train_datagen.flow_from_directory('training',\n",
    "                                                 target_size = (64, 64),\n",
    "                                                 batch_size = 32,\n",
    "                                                 class_mode = 'binary')\n",
    "test_datagen = ImageDataGenerator(rescale = 1./255)\n",
    "test_set = test_datagen.flow_from_directory('validation',\n",
    "                                            target_size = (64, 64),\n",
    "                                            batch_size = 32,\n",
    "                                            class_mode = 'binary')"
   ]
  },
  {
   "cell_type": "code",
   "execution_count": null,
   "metadata": {},
   "outputs": [],
   "source": [
    "#Step1-Convolution"
   ]
  },
  {
   "cell_type": "code",
   "execution_count": null,
   "metadata": {},
   "outputs": [],
   "source": [
    "#Initializing the neuron"
   ]
  },
  {
   "cell_type": "code",
   "execution_count": 5,
   "metadata": {},
   "outputs": [],
   "source": [
    "food = tf.keras.models.Sequential()"
   ]
  },
  {
   "cell_type": "code",
   "execution_count": null,
   "metadata": {},
   "outputs": [],
   "source": [
    "#Adding first hidden layer"
   ]
  },
  {
   "cell_type": "code",
   "execution_count": 6,
   "metadata": {},
   "outputs": [],
   "source": [
    "food.add(tf.keras.layers.Conv2D(filters=32, kernel_size=3, activation='relu', input_shape=[64, 64, 3]))"
   ]
  },
  {
   "cell_type": "code",
   "execution_count": null,
   "metadata": {},
   "outputs": [],
   "source": [
    "#Step 2- Max Pooling"
   ]
  },
  {
   "cell_type": "code",
   "execution_count": 7,
   "metadata": {},
   "outputs": [],
   "source": [
    "food.add(tf.keras.layers.MaxPool2D(pool_size=2, strides=2))"
   ]
  },
  {
   "cell_type": "code",
   "execution_count": null,
   "metadata": {},
   "outputs": [],
   "source": [
    "#Adding second hidden layer"
   ]
  },
  {
   "cell_type": "code",
   "execution_count": 8,
   "metadata": {},
   "outputs": [],
   "source": [
    "food.add(tf.keras.layers.Conv2D(filters=32, kernel_size=3, activation='relu'))\n",
    "food.add(tf.keras.layers.MaxPool2D(pool_size=2, strides=2))"
   ]
  },
  {
   "cell_type": "code",
   "execution_count": null,
   "metadata": {},
   "outputs": [],
   "source": [
    "#Step 3- Flattening"
   ]
  },
  {
   "cell_type": "code",
   "execution_count": 9,
   "metadata": {},
   "outputs": [],
   "source": [
    "food.add(tf.keras.layers.Flatten())"
   ]
  },
  {
   "cell_type": "code",
   "execution_count": null,
   "metadata": {},
   "outputs": [],
   "source": [
    "#Step 4- Full connection"
   ]
  },
  {
   "cell_type": "code",
   "execution_count": 10,
   "metadata": {},
   "outputs": [],
   "source": [
    "food.add(tf.keras.layers.Dense(units=128, activation='relu'))"
   ]
  },
  {
   "cell_type": "code",
   "execution_count": null,
   "metadata": {},
   "outputs": [],
   "source": [
    "#Output layer"
   ]
  },
  {
   "cell_type": "code",
   "execution_count": 11,
   "metadata": {},
   "outputs": [],
   "source": [
    "food.add(tf.keras.layers.Dense(units=1, activation='sigmoid'))"
   ]
  },
  {
   "cell_type": "code",
   "execution_count": null,
   "metadata": {},
   "outputs": [],
   "source": [
    "#Compilation"
   ]
  },
  {
   "cell_type": "code",
   "execution_count": 12,
   "metadata": {},
   "outputs": [],
   "source": [
    "food.compile(optimizer = 'adam', loss = 'binary_crossentropy', metrics = ['accuracy'])"
   ]
  },
  {
   "cell_type": "code",
   "execution_count": null,
   "metadata": {},
   "outputs": [],
   "source": [
    "#Training the model"
   ]
  },
  {
   "cell_type": "code",
   "execution_count": 14,
   "metadata": {
    "scrolled": true
   },
   "outputs": [
    {
     "name": "stdout",
     "output_type": "stream",
     "text": [
      "WARNING:tensorflow:sample_weight modes were coerced from\n",
      "  ...\n",
      "    to  \n",
      "  ['...']\n",
      "WARNING:tensorflow:sample_weight modes were coerced from\n",
      "  ...\n",
      "    to  \n",
      "  ['...']\n",
      "Train for 94 steps, validate for 32 steps\n",
      "Epoch 1/25\n",
      "94/94 [==============================] - 86s 912ms/step - loss: 0.4869 - accuracy: 0.7657 - val_loss: 0.4254 - val_accuracy: 0.8120\n",
      "Epoch 2/25\n",
      "94/94 [==============================] - 70s 747ms/step - loss: 0.3812 - accuracy: 0.8370 - val_loss: 0.4423 - val_accuracy: 0.8220\n",
      "Epoch 3/25\n",
      "94/94 [==============================] - 71s 754ms/step - loss: 0.3480 - accuracy: 0.8500 - val_loss: 0.3343 - val_accuracy: 0.8560\n",
      "Epoch 4/25\n",
      "94/94 [==============================] - 69s 729ms/step - loss: 0.3194 - accuracy: 0.8640 - val_loss: 0.2934 - val_accuracy: 0.8810\n",
      "Epoch 5/25\n",
      "94/94 [==============================] - 68s 719ms/step - loss: 0.2971 - accuracy: 0.8820 - val_loss: 0.3271 - val_accuracy: 0.8700\n",
      "Epoch 6/25\n",
      "94/94 [==============================] - 69s 732ms/step - loss: 0.2948 - accuracy: 0.8773 - val_loss: 0.3756 - val_accuracy: 0.8520\n",
      "Epoch 7/25\n",
      "94/94 [==============================] - 70s 742ms/step - loss: 0.2706 - accuracy: 0.8867 - val_loss: 0.3762 - val_accuracy: 0.8520\n",
      "Epoch 8/25\n",
      "94/94 [==============================] - 72s 762ms/step - loss: 0.2404 - accuracy: 0.9037 - val_loss: 0.3418 - val_accuracy: 0.8750\n",
      "Epoch 9/25\n",
      "94/94 [==============================] - 67s 711ms/step - loss: 0.2605 - accuracy: 0.8997 - val_loss: 0.3160 - val_accuracy: 0.8820\n",
      "Epoch 10/25\n",
      "94/94 [==============================] - 72s 767ms/step - loss: 0.2448 - accuracy: 0.8997 - val_loss: 0.2766 - val_accuracy: 0.8880\n",
      "Epoch 11/25\n",
      "94/94 [==============================] - 72s 762ms/step - loss: 0.2417 - accuracy: 0.8993 - val_loss: 0.2732 - val_accuracy: 0.8900\n",
      "Epoch 12/25\n",
      "94/94 [==============================] - 79s 838ms/step - loss: 0.2308 - accuracy: 0.9027 - val_loss: 0.2985 - val_accuracy: 0.8940\n",
      "Epoch 13/25\n",
      "94/94 [==============================] - 80s 851ms/step - loss: 0.2124 - accuracy: 0.9143 - val_loss: 0.2667 - val_accuracy: 0.8940\n",
      "Epoch 14/25\n",
      "94/94 [==============================] - 66s 700ms/step - loss: 0.1990 - accuracy: 0.9243 - val_loss: 0.2843 - val_accuracy: 0.8970\n",
      "Epoch 15/25\n",
      "94/94 [==============================] - 66s 699ms/step - loss: 0.2059 - accuracy: 0.9197 - val_loss: 0.3506 - val_accuracy: 0.8720\n",
      "Epoch 16/25\n",
      "94/94 [==============================] - 66s 702ms/step - loss: 0.1972 - accuracy: 0.9160 - val_loss: 0.2761 - val_accuracy: 0.8960\n",
      "Epoch 17/25\n",
      "94/94 [==============================] - 66s 703ms/step - loss: 0.1703 - accuracy: 0.9260 - val_loss: 0.3329 - val_accuracy: 0.8840\n",
      "Epoch 18/25\n",
      "94/94 [==============================] - 72s 762ms/step - loss: 0.1790 - accuracy: 0.9310 - val_loss: 0.2639 - val_accuracy: 0.8930\n",
      "Epoch 19/25\n",
      "94/94 [==============================] - 71s 756ms/step - loss: 0.1529 - accuracy: 0.9393 - val_loss: 0.2825 - val_accuracy: 0.8960\n",
      "Epoch 20/25\n",
      "94/94 [==============================] - 66s 702ms/step - loss: 0.1554 - accuracy: 0.9387 - val_loss: 0.3690 - val_accuracy: 0.8710\n",
      "Epoch 21/25\n",
      "94/94 [==============================] - 66s 707ms/step - loss: 0.1725 - accuracy: 0.9317 - val_loss: 0.3875 - val_accuracy: 0.8810\n",
      "Epoch 22/25\n",
      "94/94 [==============================] - 66s 699ms/step - loss: 0.1509 - accuracy: 0.9360 - val_loss: 0.3598 - val_accuracy: 0.8830\n",
      "Epoch 23/25\n",
      "94/94 [==============================] - 67s 710ms/step - loss: 0.1404 - accuracy: 0.9433 - val_loss: 0.3402 - val_accuracy: 0.9030\n",
      "Epoch 24/25\n",
      "94/94 [==============================] - 66s 707ms/step - loss: 0.1547 - accuracy: 0.9403 - val_loss: 0.3190 - val_accuracy: 0.9030\n",
      "Epoch 25/25\n",
      "94/94 [==============================] - 67s 715ms/step - loss: 0.1174 - accuracy: 0.9553 - val_loss: 0.2791 - val_accuracy: 0.9010\n"
     ]
    },
    {
     "data": {
      "text/plain": [
       "<tensorflow.python.keras.callbacks.History at 0x24f3b33c148>"
      ]
     },
     "execution_count": 14,
     "metadata": {},
     "output_type": "execute_result"
    }
   ],
   "source": [
    "food.fit(x = training_set, validation_data =test_set, epochs = 25)"
   ]
  },
  {
   "cell_type": "code",
   "execution_count": 15,
   "metadata": {},
   "outputs": [],
   "source": [
    "import numpy as np\n",
    "from keras.preprocessing import image"
   ]
  },
  {
   "cell_type": "code",
   "execution_count": 16,
   "metadata": {},
   "outputs": [],
   "source": [
    "#Predicting results"
   ]
  },
  {
   "cell_type": "code",
   "execution_count": 55,
   "metadata": {},
   "outputs": [],
   "source": [
    "test_image = image.load_img('evaluation/non_food/9.jpg', target_size = (64, 64))\n",
    "test_image = image.img_to_array(test_image)\n",
    "test_image = np.expand_dims(test_image, axis = 0)\n",
    "result = food.predict(test_image)\n",
    "training_set.class_indices\n",
    "if result[0][0] == 1:\n",
    "  prediction = 'non_food'\n",
    "else:\n",
    "  prediction = 'food'"
   ]
  },
  {
   "cell_type": "code",
   "execution_count": 56,
   "metadata": {},
   "outputs": [
    {
     "name": "stdout",
     "output_type": "stream",
     "text": [
      "[[1.]]\n"
     ]
    }
   ],
   "source": [
    "print(result)"
   ]
  },
  {
   "cell_type": "code",
   "execution_count": 57,
   "metadata": {},
   "outputs": [
    {
     "name": "stdout",
     "output_type": "stream",
     "text": [
      "non_food\n"
     ]
    }
   ],
   "source": [
    "print(prediction)"
   ]
  },
  {
   "cell_type": "code",
   "execution_count": 60,
   "metadata": {},
   "outputs": [],
   "source": [
    "image_pilot = image.load_img(\"evaluation/non_food/9.jpg\", target_size = (64, 64))"
   ]
  },
  {
   "cell_type": "code",
   "execution_count": 61,
   "metadata": {},
   "outputs": [],
   "source": [
    "image_pilot.show()"
   ]
  },
  {
   "cell_type": "code",
   "execution_count": null,
   "metadata": {},
   "outputs": [],
   "source": [
    "#Pickling"
   ]
  },
  {
   "cell_type": "code",
   "execution_count": 62,
   "metadata": {},
   "outputs": [
    {
     "name": "stdout",
     "output_type": "stream",
     "text": [
      "Saved model to disk\n"
     ]
    }
   ],
   "source": [
    "food.save(\"model.h5\")\n",
    "print(\"Saved model to disk\")"
   ]
  }
 ],
 "metadata": {
  "kernelspec": {
   "display_name": "Python 3",
   "language": "python",
   "name": "python3"
  },
  "language_info": {
   "codemirror_mode": {
    "name": "ipython",
    "version": 3
   },
   "file_extension": ".py",
   "mimetype": "text/x-python",
   "name": "python",
   "nbconvert_exporter": "python",
   "pygments_lexer": "ipython3",
   "version": "3.7.7"
  }
 },
 "nbformat": 4,
 "nbformat_minor": 4
}
